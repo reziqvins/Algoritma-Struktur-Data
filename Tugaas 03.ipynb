{
 "cells": [
  {
   "cell_type": "code",
   "execution_count": 15,
   "metadata": {},
   "outputs": [
    {
     "name": "stdout",
     "output_type": "stream",
     "text": [
      "saya berumur 18 tahun, saya memiliki tinggi badan 161 dan saya lahir pada tanggal 30 april tahun 2002\n"
     ]
    },
    {
     "ename": "NameError",
     "evalue": "name 'umur' is not defined",
     "output_type": "error",
     "traceback": [
      "\u001b[1;31m---------------------------------------------------------------------------\u001b[0m",
      "\u001b[1;31mNameError\u001b[0m                                 Traceback (most recent call last)",
      "\u001b[1;32m<ipython-input-15-a3e5d8db08df>\u001b[0m in \u001b[0;36m<module>\u001b[1;34m\u001b[0m\n\u001b[0;32m      6\u001b[0m \u001b[0mprint\u001b[0m \u001b[1;33m(\u001b[0m\u001b[1;34m\"saya berumur\"\u001b[0m\u001b[1;33m,\u001b[0m \u001b[0mumur\u001b[0m\u001b[1;33m,\u001b[0m\u001b[1;34m\"tahun, saya memiliki tinggi badan\"\u001b[0m\u001b[1;33m,\u001b[0m \u001b[0mtinggibadan\u001b[0m\u001b[1;33m,\u001b[0m \u001b[1;34m\"dan saya lahir pada tanggal\"\u001b[0m\u001b[1;33m,\u001b[0m \u001b[0mtanggallahir\u001b[0m\u001b[1;33m,\u001b[0m \u001b[1;34m\"april\"\u001b[0m\u001b[1;33m,\u001b[0m \u001b[1;34m\"tahun\"\u001b[0m\u001b[1;33m,\u001b[0m \u001b[0mtahun\u001b[0m\u001b[1;33m)\u001b[0m\u001b[1;33m\u001b[0m\u001b[1;33m\u001b[0m\u001b[0m\n\u001b[0;32m      7\u001b[0m \u001b[1;32mdel\u001b[0m \u001b[1;33m(\u001b[0m \u001b[0mumur\u001b[0m\u001b[1;33m)\u001b[0m\u001b[1;33m\u001b[0m\u001b[1;33m\u001b[0m\u001b[0m\n\u001b[1;32m----> 8\u001b[1;33m \u001b[0mprint\u001b[0m \u001b[1;33m(\u001b[0m\u001b[0mumur\u001b[0m\u001b[1;33m)\u001b[0m\u001b[1;33m\u001b[0m\u001b[1;33m\u001b[0m\u001b[0m\n\u001b[0m",
      "\u001b[1;31mNameError\u001b[0m: name 'umur' is not defined"
     ]
    }
   ],
   "source": [
    "#Muhammad Reziq Darusman\n",
    "umur = 18   # umur= variabel\n",
    "tinggibadan = 161  # tinggibadan= Variabel\n",
    "tanggallahir = 30\n",
    "tahun = 2002\n",
    "print (\"saya berumur\", umur,\"tahun, saya memiliki tinggi badan\", tinggibadan, \"dan saya lahir pada tanggal\", tanggallahir, \"april\", \"tahun\", tahun)\n",
    "del ( umur)\n",
    "print (umur)"
   ]
  },
  {
   "cell_type": "code",
   "execution_count": 9,
   "metadata": {},
   "outputs": [
    {
     "name": "stdout",
     "output_type": "stream",
     "text": [
      "Jari-Jari = 50\n",
      "Phi       = 3.14\n",
      "keliling Lingkaran = 2 x phi x r\n",
      "keliling Lingkaran = 2 x 3.14 x 50\n",
      "keliling Lingkaran = 314.0\n"
     ]
    }
   ],
   "source": [
    "#Muhammad Reziq Darusman\n",
    "r = 50                 #r ,tipe data integer\n",
    "phi = 3.14             #phi, tipe data float\n",
    "kel = 2*phi*r\n",
    "print (\"Jari-Jari =\", r)\n",
    "print (\"Phi       =\", phi)\n",
    "print (\"keliling Lingkaran = 2 x phi x r\")\n",
    "print (\"keliling Lingkaran = 2 x\", phi, \"x\", r)\n",
    "print (\"keliling Lingkaran =\",kel)"
   ]
  },
  {
   "cell_type": "code",
   "execution_count": 10,
   "metadata": {},
   "outputs": [
    {
     "name": "stdout",
     "output_type": "stream",
     "text": [
      "True\n"
     ]
    }
   ],
   "source": [
    "#Muhammad Reziq Darusman\n",
    "NilaiReziqdanDia = 100>70   #Tipe data Bolean True\n",
    "print(NilaiReziqdanDia)"
   ]
  },
  {
   "cell_type": "code",
   "execution_count": 14,
   "metadata": {},
   "outputs": [
    {
     "name": "stdout",
     "output_type": "stream",
     "text": [
      "False\n"
     ]
    }
   ],
   "source": [
    "#Muhammad Reziq Darusman\n",
    "print ( 70 > 80 )         #Tipe Data Bolean False"
   ]
  },
  {
   "cell_type": "code",
   "execution_count": 15,
   "metadata": {},
   "outputs": [
    {
     "name": "stdout",
     "output_type": "stream",
     "text": [
      "64.0\n",
      "0b1000000\n",
      "0x40\n"
     ]
    }
   ],
   "source": [
    "#Muhammad Reziq Darusman\n",
    "pulpen=64                    # pulpen= variabel\n",
    "print(float(pulpen))         # konversi tipe data float\n",
    "print(bin(pulpen))           # konversi tipe data binary\n",
    "print(hex(pulpen))           # konversi tipe data hexadecimal"
   ]
  },
  {
   "cell_type": "code",
   "execution_count": 26,
   "metadata": {},
   "outputs": [
    {
     "name": "stdout",
     "output_type": "stream",
     "text": [
      "biodata mahasiswa\n",
      "Muhammad Reziq Darusman\n",
      "NIM= 20090127\n",
      "Dia Mahasiswa semester 4 yang berprestasi, karena memiliki ipk sebesar 4.0\n"
     ]
    },
    {
     "ename": "NameError",
     "evalue": "name 'ipk' is not defined",
     "output_type": "error",
     "traceback": [
      "\u001b[1;31m---------------------------------------------------------------------------\u001b[0m",
      "\u001b[1;31mNameError\u001b[0m                                 Traceback (most recent call last)",
      "\u001b[1;32m<ipython-input-26-ad9296460a40>\u001b[0m in \u001b[0;36m<module>\u001b[1;34m\u001b[0m\n\u001b[0;32m      9\u001b[0m \u001b[0mprint\u001b[0m \u001b[1;33m(\u001b[0m\u001b[1;34m'''Dia Mahasiswa semester'''\u001b[0m\u001b[1;33m,\u001b[0m \u001b[0msemester\u001b[0m\u001b[1;33m,\u001b[0m\u001b[1;34m\"yang berprestasi, karena memiliki ipk sebesar\"\u001b[0m\u001b[1;33m,\u001b[0m \u001b[0mipk\u001b[0m\u001b[1;33m)\u001b[0m\u001b[1;33m\u001b[0m\u001b[1;33m\u001b[0m\u001b[0m\n\u001b[0;32m     10\u001b[0m \u001b[1;32mdel\u001b[0m \u001b[1;33m(\u001b[0m\u001b[0mipk\u001b[0m\u001b[1;33m)\u001b[0m\u001b[1;33m\u001b[0m\u001b[1;33m\u001b[0m\u001b[0m\n\u001b[1;32m---> 11\u001b[1;33m \u001b[0mprint\u001b[0m \u001b[1;33m(\u001b[0m\u001b[0mipk\u001b[0m\u001b[1;33m)\u001b[0m\u001b[1;33m\u001b[0m\u001b[1;33m\u001b[0m\u001b[0m\n\u001b[0m\u001b[0;32m     12\u001b[0m \u001b[1;33m\u001b[0m\u001b[0m\n",
      "\u001b[1;31mNameError\u001b[0m: name 'ipk' is not defined"
     ]
    }
   ],
   "source": [
    "judul    = \"biodata mahasiswa\"\n",
    "nama     = \"Muhammad Reziq Darusman\"\n",
    "nim      = \"NIM= 20090127\"\n",
    "semester = 4\n",
    "ipk = (float(4))\n",
    "print (judul)\n",
    "print (nama)\n",
    "print (nim)\n",
    "print ('''Dia Mahasiswa semester''', semester,\"yang berprestasi, karena memiliki ipk sebesar\", ipk)\n",
    "del (ipk)\n",
    "print (ipk)\n",
    "\n"
   ]
  },
  {
   "cell_type": "code",
   "execution_count": null,
   "metadata": {},
   "outputs": [],
   "source": []
  }
 ],
 "metadata": {
  "kernelspec": {
   "display_name": "Python 3",
   "language": "python",
   "name": "python3"
  },
  "language_info": {
   "codemirror_mode": {
    "name": "ipython",
    "version": 3
   },
   "file_extension": ".py",
   "mimetype": "text/x-python",
   "name": "python",
   "nbconvert_exporter": "python",
   "pygments_lexer": "ipython3",
   "version": "3.8.3"
  }
 },
 "nbformat": 4,
 "nbformat_minor": 4
}
