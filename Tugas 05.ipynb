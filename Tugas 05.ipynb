{
 "cells": [
  {
   "cell_type": "code",
   "execution_count": 5,
   "metadata": {},
   "outputs": [
    {
     "name": "stdout",
     "output_type": "stream",
     "text": [
      "Because I proud to make something new\n",
      "I like Programming\n"
     ]
    }
   ],
   "source": [
    "def alasan():\n",
    "    print (\"Because I proud to make something new\")\n",
    "def jadi():\n",
    "    print (\"I like Programming\")\n",
    "alasan()\n",
    "jadi()\n",
    "\n"
   ]
  },
  {
   "cell_type": "code",
   "execution_count": 1,
   "metadata": {},
   "outputs": [
    {
     "name": "stdout",
     "output_type": "stream",
     "text": [
      "masukan nama anda ke\n",
      "nama anda adalah ke\n",
      "masukan nama anda an\n",
      "nama anda adalah an\n",
      "luas persegi panjang adalah 50\n",
      "luas persegi panjang adalah 5000\n"
     ]
    }
   ],
   "source": [
    "#Fungsi non parameter #input dari keyboard\n",
    "def pd():\n",
    "    name = input (\"masukan nama anda \")\n",
    "    print (\"nama anda adalah\", name)\n",
    "pd()\n",
    "pd()\n",
    "\n",
    "#membuat fungsi dengan 2 parameter #fungsi parameter\n",
    "def luas_pp ( panjang, lebar):\n",
    "    luas = (panjang*lebar)\n",
    "    print (\"luas persegi panjang adalah\", luas)\n",
    "luas_pp (5, 10)\n",
    "luas_pp (100, 50)"
   ]
  },
  {
   "cell_type": "code",
   "execution_count": 7,
   "metadata": {},
   "outputs": [
    {
     "name": "stdout",
     "output_type": "stream",
     "text": [
      "panjang =10\n",
      "lebar =20\n",
      "tinggi =25\n",
      "luas persegi panjnang adalah =  200\n",
      "volume balok =  5000\n"
     ]
    }
   ],
   "source": [
    "p= int(input (\"panjang =\"))\n",
    "l = int(input(\"lebar =\"))\n",
    "t = int (input( \"tinggi =\"))\n",
    "#rumus p*l\n",
    "def luas_pp():\n",
    "    luas = (p*l)\n",
    "    return luas\n",
    "# rumus pxlxt\n",
    "def volume_balok():\n",
    "    volume =luas_pp()*t\n",
    "    return volume\n",
    "\n",
    "print (\"luas persegi panjnang adalah = \", luas_pp())\n",
    "print (\"volume balok = \", volume_balok())\n",
    "\n",
    "\n",
    "\n",
    "\n"
   ]
  },
  {
   "cell_type": "code",
   "execution_count": 9,
   "metadata": {},
   "outputs": [
    {
     "name": "stdout",
     "output_type": "stream",
     "text": [
      "angka1 10\n",
      "angka2 30\n",
      "apakah angka1 sama dengan angka2 : False\n",
      "apakah angka1 lebih besar angka2 : False\n"
     ]
    }
   ],
   "source": [
    "#Muhammad Reziq Darusman\n",
    "\n",
    "angka1 = int(input(\"angka1 \"))\n",
    "angka2 = int(input(\"angka2 \"))\n",
    "\n",
    "def sama_dengan(angka1, angka2):\n",
    "    sm_dgn = angka1==angka2\n",
    "    print (\"apakah angka1 sama dengan angka2 :\", sm_dgn)\n",
    "    \n",
    "def lebih_besar(angka1, angka2):\n",
    "    lbh_bsr = angka1>angka2\n",
    "    print (\"apakah angka1 lebih besar angka2 :\", lbh_bsr)\n",
    "    \n",
    "sama_dengan(angka1, angka2)\n",
    "lebih_besar(angka1, angka2)"
   ]
  },
  {
   "cell_type": "code",
   "execution_count": null,
   "metadata": {},
   "outputs": [],
   "source": []
  }
 ],
 "metadata": {
  "kernelspec": {
   "display_name": "Python 3",
   "language": "python",
   "name": "python3"
  },
  "language_info": {
   "codemirror_mode": {
    "name": "ipython",
    "version": 3
   },
   "file_extension": ".py",
   "mimetype": "text/x-python",
   "name": "python",
   "nbconvert_exporter": "python",
   "pygments_lexer": "ipython3",
   "version": "3.8.3"
  }
 },
 "nbformat": 4,
 "nbformat_minor": 4
}
