{
 "cells": [
  {
   "cell_type": "code",
   "execution_count": 5,
   "metadata": {},
   "outputs": [
    {
     "name": "stdout",
     "output_type": "stream",
     "text": [
      "masukan nilai 80\n",
      "selamat, kamu tidak remidi\n"
     ]
    }
   ],
   "source": [
    "nilai = int(input( \"masukan nilai \" ))\n",
    "if nilai <= 70:\n",
    "    print (\"remidi\")\n",
    "else:\n",
    "    print ( \"selamat, kamu tidak remidi\")"
   ]
  },
  {
   "cell_type": "code",
   "execution_count": 2,
   "metadata": {},
   "outputs": [
    {
     "name": "stdout",
     "output_type": "stream",
     "text": [
      " masukan jari jari5\n",
      "luas lingkaran = 78\n",
      "lingkaran ini besar\n"
     ]
    }
   ],
   "source": [
    "r = int(input(\" masukan jari jari\"))\n",
    "\n",
    "luas = 3.14*r*r\n",
    "print (\"luas lingkaran =\", int(luas))\n",
    "\n",
    "if (luas) >= 314:\n",
    "    print (\"lingakaran ini kecil\")\n",
    "else:\n",
    "    print (\"lingkaran ini besar\")\n",
    "    "
   ]
  },
  {
   "cell_type": "code",
   "execution_count": 41,
   "metadata": {},
   "outputs": [
    {
     "name": "stdout",
     "output_type": "stream",
     "text": [
      "Masukan Nomor [ 1/2/3] 1\n",
      "Masukan panjang = 6\n",
      " Masukan Lebar = 4\n",
      " Masukan Tinggi = 3\n",
      "Volume Balok =  72\n"
     ]
    }
   ],
   "source": [
    "def VBalok():\n",
    "    p = int(input (\"Masukan panjang = \"))\n",
    "    l = int(input(\" Masukan Lebar = \"))\n",
    "    t = int(input(\" Masukan Tinggi = \"))\n",
    "    VBalok= p*l*t\n",
    "    print (\"Volume Balok = \", VBalok)\n",
    " \n",
    "\n",
    "def VKubus():\n",
    "    s = int(input(\"masukan sisi= \"))\n",
    "    VKubus = s*s*s\n",
    "    print (\"Volume kubus adalah = \", VKubus)\n",
    "   \n",
    "\n",
    "\n",
    "nomor = int(input (\"Masukan Nomor1 [ 1/2/3] \"))\n",
    "if nomor == 1:\n",
    "    VBalok()\n",
    "elif nomor == 2:\n",
    "    VKubus()\n",
    "else:\n",
    "    print (\"Program Tidak Tersedia\")"
   ]
  },
  {
   "cell_type": "code",
   "execution_count": null,
   "metadata": {},
   "outputs": [],
   "source": []
  }
 ],
 "metadata": {
  "kernelspec": {
   "display_name": "Python 3",
   "language": "python",
   "name": "python3"
  },
  "language_info": {
   "codemirror_mode": {
    "name": "ipython",
    "version": 3
   },
   "file_extension": ".py",
   "mimetype": "text/x-python",
   "name": "python",
   "nbconvert_exporter": "python",
   "pygments_lexer": "ipython3",
   "version": "3.8.3"
  }
 },
 "nbformat": 4,
 "nbformat_minor": 4
}
