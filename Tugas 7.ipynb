{
 "cells": [
  {
   "cell_type": "code",
   "execution_count": 1,
   "metadata": {},
   "outputs": [
    {
     "name": "stdout",
     "output_type": "stream",
     "text": [
      "Saya tidak akan mengulangi peerbuatan itu lagi\n",
      "Saya tidak akan mengulangi peerbuatan itu lagi\n",
      "Saya tidak akan mengulangi peerbuatan itu lagi\n",
      "Saya tidak akan mengulangi peerbuatan itu lagi\n",
      "Saya tidak akan mengulangi peerbuatan itu lagi\n",
      "Saya tidak akan mengulangi peerbuatan itu lagi\n",
      "Saya tidak akan mengulangi peerbuatan itu lagi\n",
      "Saya tidak akan mengulangi peerbuatan itu lagi\n",
      "Saya tidak akan mengulangi peerbuatan itu lagi\n",
      "Saya tidak akan mengulangi peerbuatan itu lagi\n",
      "Saya tidak akan mengulangi peerbuatan itu lagi\n",
      "Saya tidak akan mengulangi peerbuatan itu lagi\n",
      "Saya tidak akan mengulangi peerbuatan itu lagi\n",
      "Saya tidak akan mengulangi peerbuatan itu lagi\n",
      "Saya tidak akan mengulangi peerbuatan itu lagi\n",
      "Saya tidak akan mengulangi peerbuatan itu lagi\n",
      "Saya tidak akan mengulangi peerbuatan itu lagi\n",
      "Saya tidak akan mengulangi peerbuatan itu lagi\n",
      "Saya tidak akan mengulangi peerbuatan itu lagi\n",
      "Saya tidak akan mengulangi peerbuatan itu lagi\n",
      "Saya tidak akan mengulangi peerbuatan itu lagi\n",
      "Saya tidak akan mengulangi peerbuatan itu lagi\n",
      "Saya tidak akan mengulangi peerbuatan itu lagi\n",
      "Saya tidak akan mengulangi peerbuatan itu lagi\n",
      "Saya tidak akan mengulangi peerbuatan itu lagi\n"
     ]
    }
   ],
   "source": [
    "#Muhammad Reziq Darusman\n",
    "ulang = 25 #Banyaknya Perulangan\n",
    "\n",
    "for i in range(ulang):\n",
    "    print(\"Saya tidak akan mengulangi peerbuatan itu lagi\")"
   ]
  },
  {
   "cell_type": "code",
   "execution_count": 2,
   "metadata": {},
   "outputs": [
    {
     "name": "stdout",
     "output_type": "stream",
     "text": [
      "Nilai x = 14\n",
      "Nilai x = 13\n",
      "Nilai x = 12\n",
      "Nilai x = 11\n",
      "Nilai x = 10\n"
     ]
    }
   ],
   "source": [
    "#Muhammad Reziq Darusman\n",
    "x = 15\n",
    "while x >10:\n",
    "     x = x - 1\n",
    "     print(\"Nilai x =\", x)"
   ]
  },
  {
   "cell_type": "code",
   "execution_count": 3,
   "metadata": {},
   "outputs": [
    {
     "name": "stdout",
     "output_type": "stream",
     "text": [
      "masukan bilangan50\n",
      "50 adalah bilangan genap\n"
     ]
    }
   ],
   "source": [
    "#Muhammad Reziq Darusman\n",
    "bilangan = int(input(\"masukan bilangan\"))\n",
    "#fungsi 1 \n",
    "def genap():\n",
    "    print(bilangan,\"adalah bilangan genap\")\n",
    "    #fungsi 2\n",
    "def ganjil():\n",
    "    print(bilangan, \"adalah bilangan ganjil\")\n",
    "if bilangan % 2 == 0 :\n",
    "    genap()\n",
    "else :\n",
    "    ganjil()\n"
   ]
  }
 ],
 "metadata": {
  "kernelspec": {
   "display_name": "Python 3",
   "language": "python",
   "name": "python3"
  },
  "language_info": {
   "codemirror_mode": {
    "name": "ipython",
    "version": 3
   },
   "file_extension": ".py",
   "mimetype": "text/x-python",
   "name": "python",
   "nbconvert_exporter": "python",
   "pygments_lexer": "ipython3",
   "version": "3.8.3"
  }
 },
 "nbformat": 4,
 "nbformat_minor": 4
}
