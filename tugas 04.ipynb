{
 "cells": [
  {
   "cell_type": "code",
   "execution_count": 9,
   "metadata": {},
   "outputs": [
    {
     "name": "stdout",
     "output_type": "stream",
     "text": [
      "hasil 5 + 10 = 15\n",
      "hasil 5 - 10 = -5\n",
      "hasil 5 x 10 = 50\n",
      "hasil 5 : 10 = 0.5\n",
      "hasil 5 % 10 = 5\n",
      "hasil 5 pangkat 10 = 9765625\n"
     ]
    }
   ],
   "source": [
    "#Muhammad Reziq Darusman\n",
    "#OPERATOR ARITMETIKA\n",
    "a =5\n",
    "b =10\n",
    "#Menggunakan operator penjumlahan\n",
    "c = a + b\n",
    "print (\"hasil\",a, \"+\", b, \"=\", c)\n",
    "\n",
    "# Operator Pengurangan\n",
    "d = a - b\n",
    "print (\"hasil\", a, \"-\", b, \"=\", d)\n",
    "\n",
    "#Operator perkalian\n",
    "e = a*b\n",
    "print (\"hasil\", a, \"x\", b, \"=\", e)\n",
    "\n",
    "#Operator pembagian\n",
    "f = a / b\n",
    "print (\"hasil\", a, \":\", b, \"=\", f)\n",
    "\n",
    "#operator sisa bagi\n",
    "g = a%b\n",
    "print (\"hasil\", a, \"%\", b, \"=\", g)\n",
    "\n",
    "#operator pemangkatan\n",
    "h = a**b\n",
    "print (\"hasil\", a, \"pangkat\", b, \"=\", h)"
   ]
  },
  {
   "cell_type": "code",
   "execution_count": 17,
   "metadata": {},
   "outputs": [
    {
     "name": "stdout",
     "output_type": "stream",
     "text": [
      "50\n",
      "55\n",
      "50\n",
      "250\n",
      "50.0\n",
      "0.0\n",
      "0.0\n"
     ]
    }
   ],
   "source": [
    "#Muhammad Reziq Darusman\n",
    "#OPERATOR PENUGASAN\n",
    "\n",
    "a = 50#operator penugasan untuk mengisi nilai\n",
    "print (a)\n",
    "\n",
    "a += 5  #operator penugasan untuk penjumlahan\n",
    "print (a)\n",
    "\n",
    "a -= 5  #contoh operator penugasan untuk pengurangan\n",
    "print (a)\n",
    "\n",
    "a *= 5   #contoh operator penugasan untuk perkalian\n",
    "print (a)\n",
    "\n",
    "a /= 5   #contoh operator penugasan untuk pembagian\n",
    "print (a)\n",
    "\n",
    "a %=5    #contoh operator penugasan untuk sisa bagi\n",
    "print (a)\n",
    "\n",
    "a **=5   #contoh operator penugasan untuk pemangangkatan\n",
    "print (a)"
   ]
  },
  {
   "cell_type": "code",
   "execution_count": 18,
   "metadata": {},
   "outputs": [
    {
     "name": "stdout",
     "output_type": "stream",
     "text": [
      "apakah a sama dengan b: False\n",
      "apakah a lebih besar dari b: True\n",
      "apakah a lebih kecil dari b: False\n",
      "apakah a tidak sama dengan dari b: True\n",
      "apakah a lebih besar sama dengan dari b: True\n",
      "apakah a lebih besar sama dengan dari b: False\n"
     ]
    }
   ],
   "source": [
    "#Muhammad Reziq Darusman\n",
    "#OPERATOR PEMBANDING\n",
    "a = 50\n",
    "b = 10\n",
    "\n",
    "#apakah a sama dengan b?\n",
    "c = a == b\n",
    "print (\"apakah a sama dengan b:\", c)\n",
    "\n",
    "#apakah a lebih besar dari b?\n",
    "d = a > b\n",
    "print (\"apakah a lebih besar dari b:\", d)\n",
    "\n",
    "#apakah a lebih kecil b?\n",
    "c = a < b\n",
    "print (\"apakah a lebih kecil dari b:\", c)\n",
    "\n",
    "#apakah a tidak sama dengan b?\n",
    "d = a != b\n",
    "print (\"apakah a tidak sama dengan dari b:\", d)\n",
    "\n",
    "#apakah a lebih besar sama dengan b?\n",
    "e = a >= b\n",
    "print (\"apakah a lebih besar sama dengan dari b:\", e)\n",
    "\n",
    "#Apakah a lebih kecil sama dengan b?\n",
    "f = a <= b\n",
    "print (\"apakah a lebih besar sama dengan dari b:\", f)\n"
   ]
  },
  {
   "cell_type": "code",
   "execution_count": 19,
   "metadata": {},
   "outputs": [
    {
     "name": "stdout",
     "output_type": "stream",
     "text": [
      "False\n",
      "True\n",
      "True\n"
     ]
    }
   ],
   "source": [
    "#Muhammad Reziq Darusman\n",
    "#OPERATOR LOGIKA\n",
    "#Logika and\n",
    "hasil = (5 > 6) and (10 < 8)\n",
    "print(hasil)\n",
    " \n",
    "#Logika or\n",
    "hasil = ('aku' == 'aku') or (aku == dia) #Operator pembanding\n",
    "print(hasil)\n",
    "\n",
    "#Logika not\n",
    "hasil = not (10 < 7)\n",
    "print(hasil)\n",
    " "
   ]
  },
  {
   "cell_type": "code",
   "execution_count": null,
   "metadata": {},
   "outputs": [],
   "source": [
    "#Muhammad Reziq Darusman\n",
    "#menampilkan input\n",
    "nama_bayi = (input (\"masukan nama bayi :\"))\n",
    "berat_badan = int (input(\"masukan berat badan bayi (KG)\"))\n",
    "\n",
    "ons = berat_badan * 10\n",
    "print (\"Berat badannya\", ons, \"(ons)\")\n",
    "berat_badan_1bulan = ons + 30\n",
    "\n",
    "\n",
    "print (\"hallo\", nama_bayi, \"berat badan bayi adalah\", berat_badan, \"KG\", \"atau\", ons, \"ons,\", \"1 bulan kemudian\", berat_badan_1bulan, \"ons\")\n"
   ]
  }
 ],
 "metadata": {
  "kernelspec": {
   "display_name": "Python 3",
   "language": "python",
   "name": "python3"
  },
  "language_info": {
   "codemirror_mode": {
    "name": "ipython",
    "version": 3
   },
   "file_extension": ".py",
   "mimetype": "text/x-python",
   "name": "python",
   "nbconvert_exporter": "python",
   "pygments_lexer": "ipython3",
   "version": "3.8.3"
  }
 },
 "nbformat": 4,
 "nbformat_minor": 4
}
