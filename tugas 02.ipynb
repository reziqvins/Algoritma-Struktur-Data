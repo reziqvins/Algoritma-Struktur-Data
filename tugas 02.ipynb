{
 "cells": [
  {
   "cell_type": "code",
   "execution_count": 2,
   "metadata": {},
   "outputs": [
    {
     "name": "stdout",
     "output_type": "stream",
     "text": [
      "saya suka programmming\n",
      "saya suka programmming\n",
      "saya suka programmming\n",
      "saya suka programmming\n",
      "saya suka programmming\n"
     ]
    }
   ],
   "source": [
    "# Nama Muhammad Reziq Darusman\n",
    "print (\"saya suka programmming\")\n",
    "print (\"saya suka programmming\")\n",
    "print (\"saya suka programmming\")\n",
    "print (\"saya suka programmming\")\n",
    "print (\"saya suka programmming\")\n"
   ]
  },
  {
   "cell_type": "code",
   "execution_count": 14,
   "metadata": {},
   "outputs": [
    {
     "name": "stdout",
     "output_type": "stream",
     "text": [
      "615.44\n"
     ]
    }
   ],
   "source": [
    "# Nama Muhammad Reziq Darusman\n",
    "r= 14\n",
    "luasLingkaran= 3.14*r*r\n",
    "print(luasLingkaran)"
   ]
  },
  {
   "cell_type": "code",
   "execution_count": 4,
   "metadata": {},
   "outputs": [
    {
     "name": "stdout",
     "output_type": "stream",
     "text": [
      "saya Muhammad Reziq Darusman, saya membuat program penghitung balok\n",
      "panjang= 5\n",
      "lebar = 7\n",
      "tinggi = 10\n",
      "V= P x L x T\n",
      "V= 5 x 7 x 10\n",
      "sehingga volume balok= 350\n"
     ]
    }
   ],
   "source": [
    "# Nama Muhammad Reziq Darusman\n",
    "print (\"saya Muhammad Reziq Darusman, saya membuat program penghitung balok\")\n",
    "p = 5\n",
    "l = 7\n",
    "t = 10\n",
    "v = p*l*t\n",
    "print (\"panjang=\", p)\n",
    "print (\"lebar =\", l)\n",
    "print (\"tinggi =\", t)\n",
    "print (\"V= P x L x T\")\n",
    "print ( \"V=\", p,\"x\", l, \"x\", t )\n",
    "print  (\"sehingga volume balok=\", v)\n",
    "       "
   ]
  }
 ],
 "metadata": {
  "kernelspec": {
   "display_name": "Python 3",
   "language": "python",
   "name": "python3"
  },
  "language_info": {
   "codemirror_mode": {
    "name": "ipython",
    "version": 3
   },
   "file_extension": ".py",
   "mimetype": "text/x-python",
   "name": "python",
   "nbconvert_exporter": "python",
   "pygments_lexer": "ipython3",
   "version": "3.8.3"
  }
 },
 "nbformat": 4,
 "nbformat_minor": 4
}
